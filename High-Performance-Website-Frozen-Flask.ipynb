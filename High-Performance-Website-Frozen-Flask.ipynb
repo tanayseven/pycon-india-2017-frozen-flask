{
 "cells": [
  {
   "cell_type": "markdown",
   "metadata": {
    "slideshow": {
     "slide_type": "slide"
    }
   },
   "source": [
    "# Use Jinja and Frozen Flask to build high performance static website\n",
    "### Tanay V. PrabhuDesai\n",
    "### Nelkinda Software Craft Pvt. Ltd.\n"
   ]
  },
  {
   "cell_type": "markdown",
   "metadata": {
    "slideshow": {
     "slide_type": "slide"
    }
   },
   "source": [
    "## What is this talk about\n",
    "1. Metrics for high performance website\n",
    "2. Existing blog generators\n",
    "3. Jinja for writing blog pages\n",
    "4. Using Frozen Flask\n",
    "5. Rendering of HTML pages\n",
    "6. Minification of CSS and JS\n",
    "7. Compression of images\n",
    "8. Parallelizing some of the tasks"
   ]
  },
  {
   "cell_type": "markdown",
   "metadata": {
    "slideshow": {
     "slide_type": "slide"
    }
   },
   "source": [
    "## Metrics for high performance\n",
    "### Automated improvements\n",
    "- Minification of CSS and JS\n",
    "- Combining CSS and JS into a single file\n",
    "- Reducing the size of images\n",
    "### Others\n",
    "- Setting browser caching\n",
    "- "
   ]
  },
  {
   "cell_type": "markdown",
   "metadata": {
    "slideshow": {
     "slide_type": "slide"
    }
   },
   "source": [
    "# Google Page Insights\n",
    "\n",
    "```\n",
    "https://developers.google.com/speed/pagespeed/insights/?url=somewebsite.com\n",
    "```\n",
    "\n",
    "### From this\n",
    "\n",
    "TODO: add an image here\n",
    "\n",
    "\n",
    "### To this\n",
    "\n",
    "TODO: add an image here"
   ]
  },
  {
   "cell_type": "markdown",
   "metadata": {
    "slideshow": {
     "slide_type": "slide"
    }
   },
   "source": [
    "## Existing static blog generators\n",
    "\n",
    "#### The existing static blog generators are mostly driven by users who want to write blogs using Markdown\n",
    "\n",
    "#### Jekyll is one of the most popular static blog generators, in which users have to write blogs in Markdown\n",
    "\n",
    "#### Sometimes there is lack of flexibility when we are writing blogs, and Markdown starts becoming HTML"
   ]
  },
  {
   "cell_type": "markdown",
   "metadata": {
    "slideshow": {
     "slide_type": "slide"
    }
   },
   "source": [
    "## Strengths and weaknesses of Markdown\n",
    "\n",
    "#### Strengths:\n",
    "- Easy to read when presented in plain text\n",
    "- Not a lot of coding experience is needed\n",
    "- Ideal for writing blog/book/document that will mostly be read in plain text\n",
    "\n",
    "#### Weaknesses:\n",
    "- Not possible for customization of the styl layout for different pages\n",
    "- Have to reduce the customization by including a lot of HTML tags\n",
    "- Not designed for writing something like a website that needs variation of styles "
   ]
  },
  {
   "cell_type": "markdown",
   "metadata": {
    "slideshow": {
     "slide_type": "slide"
    }
   },
   "source": [
    "## Using Jinja for front end web pages\n",
    "\n",
    "- Compiles to HTML\n",
    "- Provides template inheritance\n",
    "- Increases code reusability\n",
    "- Incresses writeability (can focus on writing just the content of that page)\n",
    "- Helps passing Python objects to webpages to be rendered as HTML"
   ]
  },
  {
   "cell_type": "markdown",
   "metadata": {
    "slideshow": {
     "slide_type": "slide"
    }
   },
   "source": [
    "## Frozen Flask for rendering static html\n",
    "\n",
    "- Frozen Flask converts all the `GET` endpoints of your Flask application into static HTML files\n",
    "- These endpoints look like normal endpoints that you will see in Flask projects\n",
    "\n",
    "```python\n",
    "    @app.route('/')\n",
    "    def root():\n",
    "        return template.render(css_file='main.css')\n",
    "```\n",
    "- Just keep in mind that these endpoints should be GET endpoints"
   ]
  },
  {
   "cell_type": "markdown",
   "metadata": {
    "slideshow": {
     "slide_type": "slide"
    }
   },
   "source": [
    "## Serving static files through Frozen Flask\n",
    "- Suppose you want to serve a static resource file from your server\n",
    "- The path for one of the image file is: `/static/image/screenshot.png`\n",
    "- There are many other images to be served on the same path\n",
    "- The images are actually stored in a different directory in the actual path\n",
    "- You cannot just write a code like this\n",
    "```python\n",
    "    @app.route('/res/images/<path>')\n",
    "    def images(path):\n",
    "        return send_from_directory('static/images/', path)\n",
    "```\n",
    "\n",
    "- Well, you can do that but it is not enough. You need something more\n",
    "- You have to freeze endpoints in addition to just declaring the endpoints"
   ]
  },
  {
   "cell_type": "markdown",
   "metadata": {
    "slideshow": {
     "slide_type": "slide"
    }
   },
   "source": [
    "## Freezing endpoints in Frozen Flask\n",
    "\n",
    "- In order for the endpoints serving static files, we need register generators for those endpoints\n",
    "- This needs to be done so that Frozen Flask knows for what files should the endpoint freeze\n",
    "- The freezers are decorators applied on generators which generate dictionaries\n",
    "```python\n",
    "    @freezer.register_generator\n",
    "    def images():\n",
    "        image_paths = [image_path for image_path in generate_all_image_path(IMAGE_PATH)]\n",
    "        for image_path in image_paths:\n",
    "            yield {'path': image_path}\n",
    "```\n",
    "- Key of the dictionary is the same variable specified in the endpoint"
   ]
  },
  {
   "cell_type": "markdown",
   "metadata": {
    "slideshow": {
     "slide_type": "slide"
    }
   },
   "source": [
    "## Complex and useful freezing\n",
    "\n",
    "- If you need an endpoint to follow the traditional blog structure\n",
    "- With a path simillar to `somewebsite/blog/2017/11/04/some-post.html`\n",
    "- The Jinja template written is at the location `posts/2017-11-04-some-post.html`\n",
    "```python\n",
    "    @app.route('/blog/<year>/<month>/<day>/<name>.html')\n",
    "    def blog_post(year, month, day, name):\n",
    "        return send_from_directory('posts/', path + year + '-' + month + '-' + day + '-' + name + '.html')\n",
    "```\n",
    "- The path for this will be generated by the following freezer\n",
    "```python\n",
    "    @freezer.register_generator\n",
    "    def blog_post():\n",
    "        files = next(os.walk(BLOG_PATH))[2]\n",
    "        blog_posts = [file for file in files if file.endswith('.html')]\n",
    "        for post in blog_posts:\n",
    "            path = split_path('', '', post)[0]\n",
    "            yield {\n",
    "                'year': path[0],\n",
    "                'month': path[1],\n",
    "                'day': path[2],\n",
    "                'name': path[3][:-5],\n",
    "            }\n",
    "```"
   ]
  },
  {
   "cell_type": "markdown",
   "metadata": {
    "slideshow": {
     "slide_type": "slide"
    }
   },
   "source": [
    "## Minification of CSS and JS\n",
    "- The served JS and CSS should be minified (HTML too if possible)\n",
    "- Use one of the Python libraries that minify files\n",
    "- One of the example can be `pip install css-html-js-minify`\n",
    "- Then just minifiy the css file in a couple of lines as follows\n",
    "```python\n",
    "    from css_html_js_minify import css_minify\n",
    "    with open('main.css') as f:\n",
    "        minified_result = css_minify(f.read())\n",
    "```\n",
    "- This can be added in the build pipeline and all the files can be minified"
   ]
  },
  {
   "cell_type": "markdown",
   "metadata": {
    "slideshow": {
     "slide_type": "slide"
    }
   },
   "source": [
    "## Reduce the images using PIL\n",
    "- We can further use the PIL library for processing images\n",
    "- We can reduce the size of the images that are served\n",
    "- Install `pip install Pillow`\n",
    "```python\n",
    ".\n",
    "```"
   ]
  },
  {
   "cell_type": "markdown",
   "metadata": {
    "slideshow": {
     "slide_type": "slide"
    }
   },
   "source": [
    "## Parallelizing some of the tasks\n",
    "- We can parallelize some tasks that are done in loop\n",
    "- Minifying files and processing images can be parallelize"
   ]
  },
  {
   "cell_type": "code",
   "execution_count": 9,
   "metadata": {
    "slideshow": {
     "slide_type": "fragment"
    }
   },
   "outputs": [
    {
     "name": "stdout",
     "output_type": "stream",
     "text": [
      "1 loop, best of 3: 229 ms per loop\n",
      "10 loops, best of 3: 122 ms per loop\n"
     ]
    }
   ],
   "source": [
    "import multiprocessing\n",
    "from math import factorial\n",
    "cpus = multiprocessing.cpu_count()\n",
    "pool = multiprocessing.Pool(processes=cpus)\n",
    "numbers = [36634, 25954, 32586, 27296, 36657, 25934, 32596, 27252, 36657, 25934, 32596, 27252]\n",
    "%timeit list(map(factorial, numbers))\n",
    "%timeit pool.map(factorial, numbers)"
   ]
  },
  {
   "cell_type": "markdown",
   "metadata": {
    "slideshow": {
     "slide_type": "slide"
    }
   },
   "source": [
    "# Thank You"
   ]
  }
 ],
 "metadata": {
  "celltoolbar": "Slideshow",
  "kernelspec": {
   "display_name": "Python 3",
   "language": "python",
   "name": "python3"
  },
  "language_info": {
   "codemirror_mode": {
    "name": "ipython",
    "version": 3
   },
   "file_extension": ".py",
   "mimetype": "text/x-python",
   "name": "python",
   "nbconvert_exporter": "python",
   "pygments_lexer": "ipython3",
   "version": "3.5.3"
  }
 },
 "nbformat": 4,
 "nbformat_minor": 2
}
