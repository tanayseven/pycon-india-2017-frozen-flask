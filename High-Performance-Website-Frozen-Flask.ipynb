{
 "cells": [
  {
   "cell_type": "markdown",
   "metadata": {
    "slideshow": {
     "slide_type": "slide"
    }
   },
   "source": [
    "# Use Jinja and Frozen Flask to build high performance static website\n",
    "### Tanay V. PrabhuDesai\n",
    "### Nelkinda Software Craft Pvt. Ltd.\n"
   ]
  },
  {
   "cell_type": "markdown",
   "metadata": {
    "slideshow": {
     "slide_type": "slide"
    }
   },
   "source": [
    "## What is this talk about\n",
    "1. Metrics for high performance website\n",
    "2. Existing blog generators\n",
    "3. Jinja for writing blog pages\n",
    "4. Using Frozen Flask\n",
    "5. Rendering of HTML pages\n",
    "6. Minification of CSS and JS\n",
    "7. Compression of images\n",
    "8. Parallelizing some of the tasks"
   ]
  },
  {
   "cell_type": "markdown",
   "metadata": {
    "slideshow": {
     "slide_type": "slide"
    }
   },
   "source": [
    "## Metrics for high performance\n",
    "### Automated improvements\n",
    "- Minification of CSS and JS\n",
    "- Combining CSS and JS into a single file\n",
    "- Reducing the size of images\n",
    "### Others\n",
    "- Setting browser caching\n",
    "- "
   ]
  },
  {
   "cell_type": "markdown",
   "metadata": {
    "slideshow": {
     "slide_type": "slide"
    }
   },
   "source": [
    "# Google Page Insights\n",
    "\n",
    "```\n",
    "https://developers.google.com/speed/pagespeed/insights/?url=somewebsite.com\n",
    "```\n",
    "\n",
    "### From this\n",
    "\n",
    "TODO: add an image here\n",
    "\n",
    "\n",
    "### To this\n",
    "\n",
    "TODO: add an image here"
   ]
  },
  {
   "cell_type": "markdown",
   "metadata": {
    "slideshow": {
     "slide_type": "slide"
    }
   },
   "source": [
    "## Existing static blog generators\n",
    "\n",
    "#### The existing static blog generators are mostly driven by users who want to write blogs using Markdown\n",
    "\n",
    "#### Jekyll is one of the most popular static blog generators, in which users have to write blogs in Markdown\n",
    "\n",
    "#### Sometimes there is lack of flexibility when we are writing blogs, and Markdown starts becoming HTML"
   ]
  },
  {
   "cell_type": "markdown",
   "metadata": {
    "slideshow": {
     "slide_type": "slide"
    }
   },
   "source": [
    "## Strengths and weaknesses of Markdown\n",
    "\n",
    "#### Strengths:\n",
    "- Easy to read when presented in plain text\n",
    "- Not a lot of coding experience is needed\n",
    "- Ideal for writing blog/book/document that will mostly be read in plain text\n",
    "\n",
    "#### Weaknesses:\n",
    "- Not possible for customization of the styl layout for different pages\n",
    "- Have to reduce the customization by including a lot of HTML tags\n",
    "- Not designed for writing something like a website that needs variation of styles "
   ]
  },
  {
   "cell_type": "markdown",
   "metadata": {
    "slideshow": {
     "slide_type": "slide"
    }
   },
   "source": [
    "## Using Jinja for front end web pages\n",
    "\n",
    "- Compiles to HTML\n",
    "- Provides template inheritance\n",
    "- Increases code reusability\n",
    "- Incresses writeability (can focus on writing just the content of that page)\n",
    "- Helps passing "
   ]
  },
  {
   "cell_type": "markdown",
   "metadata": {
    "slideshow": {
     "slide_type": "slide"
    }
   },
   "source": [
    "## Frozen Flask for rendering static html\n",
    "\n",
    "- Frozen Flask converts all the GET endpoints of your Flask application into static HTML files\n",
    "- These endpoints look like normal endpoints that you will see in Flask projects\n",
    "\n",
    "```python\n",
    "    @app.route('/')\n",
    "    def root():\n",
    "        return template.render(css_file='main.css')\n",
    "```\n",
    "- Just keep in mind that these endpoints should be GET endpoints"
   ]
  },
  {
   "cell_type": "markdown",
   "metadata": {
    "slideshow": {
     "slide_type": "slide"
    }
   },
   "source": [
    "## Serving static files through Frozen Flask\n",
    "- Imagine that you want to serve a static CSS or a JS file from your server]\n",
    "- "
   ]
  },
  {
   "cell_type": "markdown",
   "metadata": {
    "slideshow": {
     "slide_type": "slide"
    }
   },
   "source": [
    "## Freezing endpoints in Frozen Flask"
   ]
  },
  {
   "cell_type": "markdown",
   "metadata": {
    "slideshow": {
     "slide_type": "slide"
    }
   },
   "source": [
    "## Minification of CSS and JS\n"
   ]
  },
  {
   "cell_type": "markdown",
   "metadata": {
    "slideshow": {
     "slide_type": "slide"
    }
   },
   "source": [
    "## Compression of images using PIL\n"
   ]
  },
  {
   "cell_type": "markdown",
   "metadata": {
    "slideshow": {
     "slide_type": "slide"
    }
   },
   "source": [
    "## Performance of the build system\n"
   ]
  },
  {
   "cell_type": "markdown",
   "metadata": {
    "slideshow": {
     "slide_type": "slide"
    }
   },
   "source": [
    "## Parallelizing some of the tasks\n"
   ]
  },
  {
   "cell_type": "markdown",
   "metadata": {
    "slideshow": {
     "slide_type": "slide"
    }
   },
   "source": [
    "# Thank You"
   ]
  }
 ],
 "metadata": {
  "celltoolbar": "Slideshow",
  "kernelspec": {
   "display_name": "Python 3",
   "language": "python",
   "name": "python3"
  },
  "language_info": {
   "codemirror_mode": {
    "name": "ipython",
    "version": 3
   },
   "file_extension": ".py",
   "mimetype": "text/x-python",
   "name": "python",
   "nbconvert_exporter": "python",
   "pygments_lexer": "ipython3",
   "version": "3.5.3"
  }
 },
 "nbformat": 4,
 "nbformat_minor": 2
}
